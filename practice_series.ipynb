{
 "cells": [
  {
   "cell_type": "code",
   "execution_count": 1,
   "id": "e55b7485",
   "metadata": {},
   "outputs": [],
   "source": [
    "import numpy as np\n",
    "import pandas as pd"
   ]
  },
  {
   "cell_type": "code",
   "execution_count": 2,
   "id": "2a019660",
   "metadata": {},
   "outputs": [
    {
     "data": {
      "text/plain": [
       "0     5\n",
       "1     7\n",
       "2    24\n",
       "3    12\n",
       "4     3\n",
       "5     2\n",
       "6    20\n",
       "7    24\n",
       "8    12\n",
       "9    17\n",
       "dtype: int32"
      ]
     },
     "execution_count": 2,
     "metadata": {},
     "output_type": "execute_result"
    }
   ],
   "source": [
    "d = pd.Series(np.random.randint(2,25,10))\n",
    "d"
   ]
  },
  {
   "cell_type": "code",
   "execution_count": 3,
   "id": "61386759",
   "metadata": {},
   "outputs": [
    {
     "data": {
      "text/plain": [
       "0     5\n",
       "1     7\n",
       "2    24\n",
       "3    12\n",
       "4     3\n",
       "5     2\n",
       "6    20\n",
       "9    17\n",
       "dtype: int32"
      ]
     },
     "execution_count": 3,
     "metadata": {},
     "output_type": "execute_result"
    }
   ],
   "source": [
    "d.drop_duplicates()#keep first & drop next duplicate"
   ]
  },
  {
   "cell_type": "code",
   "execution_count": 4,
   "id": "5ef92046",
   "metadata": {},
   "outputs": [
    {
     "data": {
      "text/plain": [
       "0     5\n",
       "1     7\n",
       "4     3\n",
       "5     2\n",
       "6    20\n",
       "7    24\n",
       "8    12\n",
       "9    17\n",
       "dtype: int32"
      ]
     },
     "execution_count": 4,
     "metadata": {},
     "output_type": "execute_result"
    }
   ],
   "source": [
    "d.drop_duplicates(keep='last')# keep last one and remove first"
   ]
  },
  {
   "cell_type": "code",
   "execution_count": 5,
   "id": "c983955a",
   "metadata": {
    "scrolled": true
   },
   "outputs": [
    {
     "data": {
      "text/plain": [
       "0     5\n",
       "1     7\n",
       "4     3\n",
       "5     2\n",
       "6    20\n",
       "9    17\n",
       "dtype: int32"
      ]
     },
     "execution_count": 5,
     "metadata": {},
     "output_type": "execute_result"
    }
   ],
   "source": [
    "d.drop_duplicates(keep=False)#drop all repeated element"
   ]
  },
  {
   "cell_type": "code",
   "execution_count": 6,
   "id": "d082e852",
   "metadata": {},
   "outputs": [
    {
     "data": {
      "text/plain": [
       "0    abc\n",
       "1    xyz\n",
       "2    pqr\n",
       "3    abc\n",
       "4    mno\n",
       "5    xyz\n",
       "6    abc\n",
       "dtype: object"
      ]
     },
     "execution_count": 6,
     "metadata": {},
     "output_type": "execute_result"
    }
   ],
   "source": [
    "s = pd.Series(['abc','xyz','pqr','abc','mno','xyz','abc'])\n",
    "s"
   ]
  },
  {
   "cell_type": "code",
   "execution_count": 7,
   "id": "766e9e1c",
   "metadata": {
    "scrolled": true
   },
   "outputs": [
    {
     "data": {
      "text/plain": [
       "0    abc\n",
       "1    xyz\n",
       "2    pqr\n",
       "4    mno\n",
       "dtype: object"
      ]
     },
     "execution_count": 7,
     "metadata": {},
     "output_type": "execute_result"
    }
   ],
   "source": [
    "s.drop_duplicates()#keep first"
   ]
  },
  {
   "cell_type": "code",
   "execution_count": 8,
   "id": "a65dc738",
   "metadata": {},
   "outputs": [
    {
     "data": {
      "text/plain": [
       "2    pqr\n",
       "4    mno\n",
       "5    xyz\n",
       "6    abc\n",
       "dtype: object"
      ]
     },
     "execution_count": 8,
     "metadata": {},
     "output_type": "execute_result"
    }
   ],
   "source": [
    "s.drop_duplicates(keep='last')#keep last"
   ]
  },
  {
   "cell_type": "code",
   "execution_count": 9,
   "id": "a874fb52",
   "metadata": {
    "scrolled": true
   },
   "outputs": [
    {
     "data": {
      "text/plain": [
       "2    pqr\n",
       "4    mno\n",
       "dtype: object"
      ]
     },
     "execution_count": 9,
     "metadata": {},
     "output_type": "execute_result"
    }
   ],
   "source": [
    "s.drop_duplicates(keep=False)#drop all duplicates"
   ]
  },
  {
   "cell_type": "code",
   "execution_count": null,
   "id": "5a8cfc86",
   "metadata": {},
   "outputs": [],
   "source": []
  }
 ],
 "metadata": {
  "kernelspec": {
   "display_name": "Python 3 (ipykernel)",
   "language": "python",
   "name": "python3"
  },
  "language_info": {
   "codemirror_mode": {
    "name": "ipython",
    "version": 3
   },
   "file_extension": ".py",
   "mimetype": "text/x-python",
   "name": "python",
   "nbconvert_exporter": "python",
   "pygments_lexer": "ipython3",
   "version": "3.9.13"
  }
 },
 "nbformat": 4,
 "nbformat_minor": 5
}
